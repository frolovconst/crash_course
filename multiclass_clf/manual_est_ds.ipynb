{
 "cells": [
  {
   "cell_type": "code",
   "execution_count": 60,
   "metadata": {},
   "outputs": [],
   "source": [
    "import tensorflow as tf\n",
    "import pandas as pd\n",
    "import numpy as np\n",
    "from sklearn.metrics import accuracy_score"
   ]
  },
  {
   "cell_type": "code",
   "execution_count": 8,
   "metadata": {},
   "outputs": [],
   "source": [
    "data = pd.read_csv('data/mnist_train_small.csv', header=None)"
   ]
  },
  {
   "cell_type": "code",
   "execution_count": 10,
   "metadata": {},
   "outputs": [],
   "source": [
    "data = data.reindex(np.random.permutation(data.index))"
   ]
  },
  {
   "cell_type": "code",
   "execution_count": 29,
   "metadata": {},
   "outputs": [],
   "source": [
    "data[np.arange(1,785)] = data[np.arange(1,785)]/255"
   ]
  },
  {
   "cell_type": "code",
   "execution_count": 31,
   "metadata": {},
   "outputs": [],
   "source": [
    "tr_x = data[np.arange(1,785)].head(18000)\n",
    "tr_y = data[0].head(18000)\n",
    "\n",
    "te_x = data[np.arange(1,785)].tail(2000)\n",
    "te_y = data[0].tail(2000)"
   ]
  },
  {
   "cell_type": "code",
   "execution_count": 43,
   "metadata": {},
   "outputs": [],
   "source": [
    "def my_input_fn(features, targets, batch_size=100, num_epochs=10):\n",
    "    features = {'pixels': features.values}\n",
    "    targets = np.array(targets)\n",
    "    \n",
    "    ds = tf.data.Dataset.from_tensor_slices((features, targets)).batch(batch_size).repeat(num_epochs)\n",
    "    return ds.make_one_shot_iterator().get_next()"
   ]
  },
  {
   "cell_type": "code",
   "execution_count": 42,
   "metadata": {},
   "outputs": [],
   "source": [
    "with tf.Session() as sess:\n",
    "    _ = sess.run(my_input_fn(tr_x, tr_y))"
   ]
  },
  {
   "cell_type": "code",
   "execution_count": 49,
   "metadata": {},
   "outputs": [
    {
     "name": "stdout",
     "output_type": "stream",
     "text": [
      "INFO:tensorflow:Using default config.\n",
      "WARNING:tensorflow:Using temporary folder as model directory: /tmp/tmpd10alh4x\n",
      "INFO:tensorflow:Using config: {'_model_dir': '/tmp/tmpd10alh4x', '_tf_random_seed': None, '_save_summary_steps': 100, '_save_checkpoints_steps': None, '_save_checkpoints_secs': 600, '_session_config': None, '_keep_checkpoint_max': 5, '_keep_checkpoint_every_n_hours': 10000, '_log_step_count_steps': 100, '_service': None, '_cluster_spec': <tensorflow.python.training.server_lib.ClusterSpec object at 0x7f77528f5c18>, '_task_type': 'worker', '_task_id': 0, '_global_id_in_cluster': 0, '_master': '', '_evaluation_master': '', '_is_chief': True, '_num_ps_replicas': 0, '_num_worker_replicas': 1}\n"
     ]
    }
   ],
   "source": [
    "my_opt = tf.train.AdagradOptimizer(learning_rate=.01)\n",
    "my_opt = tf.contrib.estimator.clip_gradients_by_norm(my_opt, 5.0)\n",
    "lc = tf.estimator.LinearClassifier(optimizer=my_opt,\n",
    "                                   n_classes=10,\n",
    "                                   feature_columns=set([tf.feature_column.numeric_column('pixels', shape=784)]))"
   ]
  },
  {
   "cell_type": "code",
   "execution_count": 66,
   "metadata": {
    "scrolled": false
   },
   "outputs": [
    {
     "name": "stdout",
     "output_type": "stream",
     "text": [
      "INFO:tensorflow:Calling model_fn.\n",
      "INFO:tensorflow:Done calling model_fn.\n",
      "INFO:tensorflow:Create CheckpointSaverHook.\n",
      "INFO:tensorflow:Graph was finalized.\n",
      "INFO:tensorflow:Restoring parameters from /tmp/tmpd10alh4x/model.ckpt-311\n",
      "INFO:tensorflow:Running local_init_op.\n",
      "INFO:tensorflow:Done running local_init_op.\n",
      "INFO:tensorflow:Saving checkpoints for 312 into /tmp/tmpd10alh4x/model.ckpt.\n",
      "INFO:tensorflow:loss = 42.064857, step = 311\n",
      "INFO:tensorflow:global_step/sec: 358.816\n",
      "INFO:tensorflow:loss = 30.263601, step = 411 (0.280 sec)\n",
      "INFO:tensorflow:global_step/sec: 434.008\n",
      "INFO:tensorflow:loss = 38.219357, step = 511 (0.230 sec)\n",
      "INFO:tensorflow:global_step/sec: 440.588\n",
      "INFO:tensorflow:loss = 26.75999, step = 611 (0.227 sec)\n",
      "INFO:tensorflow:global_step/sec: 434.03\n",
      "INFO:tensorflow:loss = 44.659874, step = 711 (0.230 sec)\n",
      "INFO:tensorflow:global_step/sec: 438.734\n",
      "INFO:tensorflow:loss = 32.856407, step = 811 (0.229 sec)\n",
      "INFO:tensorflow:global_step/sec: 438.038\n",
      "INFO:tensorflow:loss = 44.907543, step = 911 (0.227 sec)\n",
      "INFO:tensorflow:global_step/sec: 428.663\n",
      "INFO:tensorflow:loss = 30.031866, step = 1011 (0.233 sec)\n",
      "INFO:tensorflow:global_step/sec: 442.821\n",
      "INFO:tensorflow:loss = 42.090385, step = 1111 (0.226 sec)\n",
      "INFO:tensorflow:global_step/sec: 451.011\n",
      "INFO:tensorflow:loss = 31.268824, step = 1211 (0.223 sec)\n",
      "INFO:tensorflow:global_step/sec: 445.109\n",
      "INFO:tensorflow:loss = 22.326244, step = 1311 (0.223 sec)\n",
      "INFO:tensorflow:global_step/sec: 425.32\n",
      "INFO:tensorflow:loss = 30.838074, step = 1411 (0.235 sec)\n",
      "INFO:tensorflow:global_step/sec: 429.064\n",
      "INFO:tensorflow:loss = 21.868088, step = 1511 (0.234 sec)\n",
      "INFO:tensorflow:global_step/sec: 422.257\n",
      "INFO:tensorflow:loss = 40.835438, step = 1611 (0.236 sec)\n",
      "INFO:tensorflow:global_step/sec: 429.763\n",
      "INFO:tensorflow:loss = 28.48181, step = 1711 (0.232 sec)\n",
      "INFO:tensorflow:global_step/sec: 421.347\n",
      "INFO:tensorflow:loss = 41.126293, step = 1811 (0.237 sec)\n",
      "INFO:tensorflow:global_step/sec: 430.679\n",
      "INFO:tensorflow:loss = 26.999754, step = 1911 (0.232 sec)\n",
      "INFO:tensorflow:global_step/sec: 430.054\n",
      "INFO:tensorflow:loss = 38.932858, step = 2011 (0.234 sec)\n",
      "INFO:tensorflow:Saving checkpoints for 2111 into /tmp/tmpd10alh4x/model.ckpt.\n",
      "INFO:tensorflow:Loss for final step: 34.125526.\n"
     ]
    },
    {
     "data": {
      "text/plain": [
       "<tensorflow.python.estimator.canned.linear.LinearClassifier at 0x7f77528f5b70>"
      ]
     },
     "execution_count": 66,
     "metadata": {},
     "output_type": "execute_result"
    }
   ],
   "source": [
    "lc.train(steps=30000, input_fn=lambda: my_input_fn(tr_x, tr_y))"
   ]
  },
  {
   "cell_type": "code",
   "execution_count": 67,
   "metadata": {},
   "outputs": [
    {
     "name": "stdout",
     "output_type": "stream",
     "text": [
      "INFO:tensorflow:Calling model_fn.\n",
      "INFO:tensorflow:Done calling model_fn.\n",
      "INFO:tensorflow:Graph was finalized.\n",
      "INFO:tensorflow:Restoring parameters from /tmp/tmpd10alh4x/model.ckpt-2111\n",
      "INFO:tensorflow:Running local_init_op.\n",
      "INFO:tensorflow:Done running local_init_op.\n"
     ]
    },
    {
     "data": {
      "text/plain": [
       "0.902"
      ]
     },
     "execution_count": 67,
     "metadata": {},
     "output_type": "execute_result"
    }
   ],
   "source": [
    "prd = lc.predict(input_fn=lambda: my_input_fn(te_x, te_y, 2000, 1))\n",
    "\n",
    "prd = np.array([pred['class_ids'][0] for pred in prd])\n",
    "accuracy_score(te_y, prd)"
   ]
  },
  {
   "cell_type": "code",
   "execution_count": null,
   "metadata": {},
   "outputs": [],
   "source": []
  }
 ],
 "metadata": {
  "kernelspec": {
   "display_name": "Python 3",
   "language": "python",
   "name": "python3"
  },
  "language_info": {
   "codemirror_mode": {
    "name": "ipython",
    "version": 3
   },
   "file_extension": ".py",
   "mimetype": "text/x-python",
   "name": "python",
   "nbconvert_exporter": "python",
   "pygments_lexer": "ipython3",
   "version": "3.6.4"
  }
 },
 "nbformat": 4,
 "nbformat_minor": 2
}
