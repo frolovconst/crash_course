{
 "cells": [
  {
   "cell_type": "code",
   "execution_count": 1,
   "metadata": {},
   "outputs": [
    {
     "name": "stderr",
     "output_type": "stream",
     "text": [
      "/opt/anaconda3/lib/python3.6/site-packages/h5py/__init__.py:34: FutureWarning: Conversion of the second argument of issubdtype from `float` to `np.floating` is deprecated. In future, it will be treated as `np.float64 == np.dtype(float).type`.\n",
      "  from ._conv import register_converters as _register_converters\n"
     ]
    }
   ],
   "source": [
    "import pandas as pd\n",
    "import numpy as np\n",
    "import tensorflow as tf\n",
    "# from tensorflow.python.data import Dataset\n",
    "from sklearn.linear_model import LogisticRegression\n",
    "from sklearn import metrics\n",
    "import matplotlib.pyplot as plt\n",
    "% matplotlib inline\n",
    "from time import time"
   ]
  },
  {
   "cell_type": "code",
   "execution_count": 2,
   "metadata": {
    "collapsed": true
   },
   "outputs": [],
   "source": [
    "data = pd.read_csv('data/mnist_train_small.csv', header=None)"
   ]
  },
  {
   "cell_type": "code",
   "execution_count": 3,
   "metadata": {
    "collapsed": true
   },
   "outputs": [],
   "source": [
    "data = data.reindex(np.random.permutation(data.index))"
   ]
  },
  {
   "cell_type": "code",
   "execution_count": 36,
   "metadata": {
    "collapsed": true
   },
   "outputs": [],
   "source": [
    "tr_data = data.head(8000)\n",
    "te_data = data.tail(2000)"
   ]
  },
  {
   "cell_type": "code",
   "execution_count": 5,
   "metadata": {
    "collapsed": true
   },
   "outputs": [],
   "source": [
    "tr_x = tr_data.loc[:,1:]/255\n",
    "tr_y = pd.get_dummies(tr_data.loc[:,0]).astype(np.float64)"
   ]
  },
  {
   "cell_type": "code",
   "execution_count": 6,
   "metadata": {
    "collapsed": true
   },
   "outputs": [],
   "source": [
    "te_x = te_data.loc[:,1:]/255\n",
    "te_y = pd.get_dummies(te_data.loc[:,0]).astype(np.float64)"
   ]
  },
  {
   "cell_type": "code",
   "execution_count": 37,
   "metadata": {
    "collapsed": true
   },
   "outputs": [],
   "source": [
    "tr_x = tr_data.loc[:,1:]/255\n",
    "tr_y = tr_data.loc[:,0]"
   ]
  },
  {
   "cell_type": "code",
   "execution_count": 38,
   "metadata": {
    "collapsed": true
   },
   "outputs": [],
   "source": [
    "te_x = te_data.loc[:,1:]/255\n",
    "te_y = te_data.loc[:,0]"
   ]
  },
  {
   "cell_type": "code",
   "execution_count": 396,
   "metadata": {},
   "outputs": [
    {
     "data": {
      "text/plain": [
       "LogisticRegression(C=0.1, class_weight=None, dual=False, fit_intercept=True,\n",
       "          intercept_scaling=1, max_iter=100, multi_class='ovr', n_jobs=1,\n",
       "          penalty='l2', random_state=None, solver='liblinear', tol=0.0001,\n",
       "          verbose=0, warm_start=False)"
      ]
     },
     "execution_count": 396,
     "metadata": {},
     "output_type": "execute_result"
    }
   ],
   "source": [
    "lr = LogisticRegression(C=.1)\n",
    "lr.fit(tr_x, np.argmax(tr_y.as_matrix(),axis=1))"
   ]
  },
  {
   "cell_type": "code",
   "execution_count": 397,
   "metadata": {
    "collapsed": true
   },
   "outputs": [],
   "source": [
    "prd = lr.predict(te_x)"
   ]
  },
  {
   "cell_type": "code",
   "execution_count": 398,
   "metadata": {},
   "outputs": [
    {
     "data": {
      "text/plain": [
       "0.899"
      ]
     },
     "execution_count": 398,
     "metadata": {},
     "output_type": "execute_result"
    }
   ],
   "source": [
    "metrics.accuracy_score( np.argmax(te_y.as_matrix(),axis=1), prd)"
   ]
  },
  {
   "cell_type": "code",
   "execution_count": null,
   "metadata": {
    "collapsed": true
   },
   "outputs": [],
   "source": []
  },
  {
   "cell_type": "code",
   "execution_count": 7,
   "metadata": {
    "collapsed": true
   },
   "outputs": [],
   "source": [
    "tf.reset_default_graph()\n",
    "with tf.device('/cpu:0'):    \n",
    "    x = tf.placeholder(tf.float32, (None,784), 'pixels')\n",
    "    y = tf.placeholder(tf.float32, (None), 'targets')\n",
    "    w = tf.get_variable('weights', (784, 10), tf.float32, initializer=tf.zeros_initializer())\n",
    "    b = tf.get_variable('intercept', (1), tf.float32, initializer=tf.zeros_initializer())\n",
    "    logits = tf.add(tf.matmul(x, w), b)\n",
    "    h = tf.sigmoid(logits)\n",
    "    lmbd=tf.constant(.0001)\n",
    "    reg_term = tf.multiply(lmbd, tf.nn.l2_loss(w))\n",
    "    loss = tf.reduce_mean(tf.add(tf.nn.sigmoid_cross_entropy_with_logits(labels=y, logits=logits), reg_term))\n",
    "    my_opt = tf.train.AdamOptimizer(learning_rate=.1).minimize(loss)"
   ]
  },
  {
   "cell_type": "code",
   "execution_count": 8,
   "metadata": {
    "scrolled": false
   },
   "outputs": [
    {
     "name": "stdout",
     "output_type": "stream",
     "text": [
      "Time taken = 20.991775035858154\n"
     ]
    }
   ],
   "source": [
    "stime = time()\n",
    "num_epochs = 300\n",
    "with tf.Session() as sess:\n",
    "    sess.run(tf.global_variables_initializer())\n",
    "    for e in range(num_epochs):\n",
    "        sess.run(my_opt, feed_dict={x:tr_x, y:tr_y})\n",
    "    prd = sess.run(h, feed_dict={x:te_x})\n",
    "    reg = sess.run(reg_term)\n",
    "    ls = sess.run(loss, feed_dict={x:te_x, y:te_y})\n",
    "    theta = sess.run(w)\n",
    "prd = np.argmax(prd, axis=1)\n",
    "print('Time taken =', time()-stime)"
   ]
  },
  {
   "cell_type": "code",
   "execution_count": 9,
   "metadata": {},
   "outputs": [
    {
     "data": {
      "text/plain": [
       "0.894"
      ]
     },
     "execution_count": 9,
     "metadata": {},
     "output_type": "execute_result"
    }
   ],
   "source": [
    "metrics.accuracy_score(np.argmax(te_y.as_matrix(), axis=1), prd)"
   ]
  },
  {
   "cell_type": "code",
   "execution_count": 13,
   "metadata": {
    "collapsed": true
   },
   "outputs": [],
   "source": [
    "tf.reset_default_graph()\n",
    "num_epochs = 300\n",
    "with tf.device('/cpu:0'):\n",
    "    ds = tf.data.Dataset.from_tensor_slices((tr_x, tr_y))\n",
    "#     ds = ds.shuffle(buffer_size=10000)\n",
    "    ds = ds.batch(1000).repeat(num_epochs)\n",
    "    x,y = ds.make_one_shot_iterator().get_next()\n",
    "    w = tf.get_variable('weights', (784, 10), tf.float64, initializer=tf.zeros_initializer())\n",
    "    b = tf.get_variable('intercept', (1), tf.float64, initializer=tf.zeros_initializer())\n",
    "    logits = tf.add(tf.matmul(x, w), b)\n",
    "    h = tf.sigmoid(logits)\n",
    "    x_te = tf.data.Dataset.from_tensor_slices((te_x)).batch(2000).repeat(1).make_one_shot_iterator().get_next()\n",
    "    pred = tf.sigmoid(tf.add(tf.matmul(x_te, w), b))\n",
    "    lmbd=tf.constant(.0001, tf.float64)\n",
    "    reg_term = tf.multiply(lmbd, tf.nn.l2_loss(w))\n",
    "    loss = tf.reduce_mean(tf.add(tf.nn.sigmoid_cross_entropy_with_logits(labels=y, logits=logits), reg_term))\n",
    "    my_opt = tf.train.AdamOptimizer(learning_rate=.1).minimize(loss)"
   ]
  },
  {
   "cell_type": "code",
   "execution_count": 14,
   "metadata": {
    "scrolled": false
   },
   "outputs": [
    {
     "name": "stdout",
     "output_type": "stream",
     "text": [
      "Training complete\n",
      "Time taken = 39.36195135116577\n"
     ]
    }
   ],
   "source": [
    "stime = time()\n",
    "with tf.Session() as sess:\n",
    "    sess.run(tf.global_variables_initializer())\n",
    "    try:\n",
    "        while True:\n",
    "            sess.run(my_opt)\n",
    "    except tf.errors.OutOfRangeError:\n",
    "        print('Training complete')\n",
    "    prd = sess.run(pred)\n",
    "    reg = sess.run(reg_term)\n",
    "#     ls = sess.run(loss)\n",
    "    theta = sess.run(w)\n",
    "prd = np.argmax(prd, axis=1)\n",
    "print('Time taken =', time()-stime)"
   ]
  },
  {
   "cell_type": "code",
   "execution_count": 15,
   "metadata": {},
   "outputs": [
    {
     "data": {
      "text/plain": [
       "0.876"
      ]
     },
     "execution_count": 15,
     "metadata": {},
     "output_type": "execute_result"
    }
   ],
   "source": [
    "metrics.accuracy_score(np.argmax(te_y.as_matrix(), axis=1), prd)"
   ]
  },
  {
   "cell_type": "code",
   "execution_count": 21,
   "metadata": {},
   "outputs": [],
   "source": [
    "tf.reset_default_graph()\n",
    "with tf.device('/cpu:0'):    \n",
    "    x = tf.placeholder_with_default(tr_x.astype(np.float32), (None,784), 'pixels')\n",
    "    y = tf.placeholder(tf.float32, (None), 'targets')\n",
    "    w = tf.get_variable('weights', (784, 10), tf.float32, initializer=tf.zeros_initializer())\n",
    "    b = tf.get_variable('intercept', (1), tf.float32, initializer=tf.zeros_initializer())\n",
    "    logits = tf.add(tf.matmul(x, w), b)\n",
    "    h = tf.sigmoid(logits)\n",
    "    lmbd=tf.constant(.0001)\n",
    "    reg_term = tf.multiply(lmbd, tf.nn.l2_loss(w))\n",
    "    loss = tf.reduce_mean(tf.add(tf.nn.sigmoid_cross_entropy_with_logits(labels=y, logits=logits), reg_term))\n",
    "    my_opt = tf.train.AdamOptimizer(learning_rate=.1).minimize(loss)"
   ]
  },
  {
   "cell_type": "code",
   "execution_count": 140,
   "metadata": {},
   "outputs": [],
   "source": [
    "\n",
    "def my_input_fn():\n",
    "\n",
    "    x = tf.placeholder_with_default(tr_x.astype(np.float32), (None,784), 'pixels')\n",
    "    y = tf.placeholder_with_default(np.array(tr_y)[:,np.newaxis], (None), 'targets')\n",
    "    x = {'pixels':x}\n",
    "    print('shape=', x['pixels'].shape)\n",
    "    return x, y"
   ]
  },
  {
   "cell_type": "code",
   "execution_count": 141,
   "metadata": {
    "collapsed": true
   },
   "outputs": [],
   "source": [
    "def my_input_pred_fn():\n",
    "#     x = tf.placeholder_with_default(te_x.astype(np.float32), (None,784), 'pixels')\n",
    "#     y = tf.placeholder_with_default(np.array(te_y)[:,np.newaxis], (None), 'targets')\n",
    "#     raw_features = {'pixels': te_x}\n",
    "#     raw_targets = np.array(te_y)\n",
    "#     ds = tf.data.Dataset.from_tensor_slices(({'pixels':x}, y))\n",
    "#     ds = ds.repeat(1)\n",
    "#     return ds.make_one_shot_iterator().get_next()\n",
    "\n",
    "    x = tf.placeholder_with_default(te_x.astype(np.float32), (None,784), 'pixels')\n",
    "    y = tf.placeholder_with_default(np.array(te_y)[:,np.newaxis], (None), 'targets')\n",
    "    x = {'pixels':x}\n",
    "    print('shape=', x['pixels'].shape)\n",
    "    return x, y"
   ]
  },
  {
   "cell_type": "code",
   "execution_count": 167,
   "metadata": {
    "scrolled": false
   },
   "outputs": [
    {
     "name": "stdout",
     "output_type": "stream",
     "text": [
      "INFO:tensorflow:Using default config.\n",
      "WARNING:tensorflow:Using temporary folder as model directory: /tmp/tmpd0xbnoag\n",
      "INFO:tensorflow:Using config: {'_model_dir': '/tmp/tmpd0xbnoag', '_tf_random_seed': None, '_save_summary_steps': 100, '_save_checkpoints_steps': None, '_save_checkpoints_secs': 600, '_session_config': None, '_keep_checkpoint_max': 5, '_keep_checkpoint_every_n_hours': 10000, '_log_step_count_steps': 100, '_service': None, '_cluster_spec': <tensorflow.python.training.server_lib.ClusterSpec object at 0x7fe5d5e48b38>, '_task_type': 'worker', '_task_id': 0, '_global_id_in_cluster': 0, '_master': '', '_evaluation_master': '', '_is_chief': True, '_num_ps_replicas': 0, '_num_worker_replicas': 1}\n",
      "shape= (?, 784)\n",
      "INFO:tensorflow:Calling model_fn.\n",
      "INFO:tensorflow:Done calling model_fn.\n",
      "INFO:tensorflow:Create CheckpointSaverHook.\n",
      "INFO:tensorflow:Graph was finalized.\n",
      "INFO:tensorflow:Running local_init_op.\n",
      "INFO:tensorflow:Done running local_init_op.\n",
      "INFO:tensorflow:Saving checkpoints for 1 into /tmp/tmpd0xbnoag/model.ckpt.\n",
      "INFO:tensorflow:loss = 18420.736, step = 1\n",
      "INFO:tensorflow:global_step/sec: 39.5193\n",
      "INFO:tensorflow:loss = 3077.1067, step = 101 (2.557 sec)\n",
      "INFO:tensorflow:global_step/sec: 44.9433\n",
      "INFO:tensorflow:loss = 2361.392, step = 201 (2.199 sec)\n",
      "INFO:tensorflow:global_step/sec: 45.5092\n",
      "INFO:tensorflow:loss = 2050.5588, step = 301 (2.197 sec)\n",
      "INFO:tensorflow:global_step/sec: 41.6671\n",
      "INFO:tensorflow:loss = 1855.5137, step = 401 (2.400 sec)\n",
      "INFO:tensorflow:Saving checkpoints for 500 into /tmp/tmpd0xbnoag/model.ckpt.\n",
      "INFO:tensorflow:Loss for final step: 1714.7715.\n",
      "Time taken = 17.62404727935791\n"
     ]
    }
   ],
   "source": [
    "stime = time()\n",
    "my_opt = tf.train.AdagradOptimizer(learning_rate=.01)\n",
    "my_opt = tf.contrib.estimator.clip_gradients_by_norm(my_opt, 5.0)\n",
    "linear_classifier = tf.estimator.LinearClassifier(optimizer=my_opt, n_classes=10,\n",
    "                                                  feature_columns=set([tf.feature_column.numeric_column('pixels', shape=784)]))\n",
    "linear_classifier.train(steps=500,\n",
    "                       input_fn = my_input_fn)\n",
    "print('Time taken =', time()-stime)"
   ]
  },
  {
   "cell_type": "code",
   "execution_count": 168,
   "metadata": {
    "collapsed": true
   },
   "outputs": [],
   "source": [
    "prd = linear_classifier.predict(input_fn=my_input_pred_fn)"
   ]
  },
  {
   "cell_type": "code",
   "execution_count": 169,
   "metadata": {
    "scrolled": false
   },
   "outputs": [
    {
     "name": "stdout",
     "output_type": "stream",
     "text": [
      "shape= (?, 784)\n",
      "WARNING:tensorflow:Input graph does not use tf.data.Dataset or contain a QueueRunner. That means predict yields forever. This is probably a mistake.\n",
      "INFO:tensorflow:Calling model_fn.\n",
      "INFO:tensorflow:Done calling model_fn.\n",
      "INFO:tensorflow:Graph was finalized.\n",
      "INFO:tensorflow:Restoring parameters from /tmp/tmpd0xbnoag/model.ckpt-500\n",
      "INFO:tensorflow:Running local_init_op.\n",
      "INFO:tensorflow:Done running local_init_op.\n"
     ]
    }
   ],
   "source": [
    "i=0\n",
    "res = []\n",
    "for item in prd:\n",
    "    one = item\n",
    "    res += [one['class_ids'][0],]\n",
    "    i += 1\n",
    "    if i==2000:\n",
    "        break"
   ]
  },
  {
   "cell_type": "code",
   "execution_count": 170,
   "metadata": {},
   "outputs": [],
   "source": [
    "res = np.array(res)"
   ]
  },
  {
   "cell_type": "code",
   "execution_count": 171,
   "metadata": {},
   "outputs": [
    {
     "data": {
      "text/plain": [
       "0.901"
      ]
     },
     "execution_count": 171,
     "metadata": {},
     "output_type": "execute_result"
    }
   ],
   "source": [
    "metrics.accuracy_score(pd.get_dummies(te_y).values, pd.get_dummies(res).values)"
   ]
  },
  {
   "cell_type": "code",
   "execution_count": 362,
   "metadata": {},
   "outputs": [
    {
     "data": {
      "text/plain": [
       "0.010899374"
      ]
     },
     "execution_count": 362,
     "metadata": {},
     "output_type": "execute_result"
    }
   ],
   "source": [
    "reg"
   ]
  },
  {
   "cell_type": "code",
   "execution_count": 363,
   "metadata": {},
   "outputs": [
    {
     "data": {
      "text/plain": [
       "0.08979064"
      ]
     },
     "execution_count": 363,
     "metadata": {},
     "output_type": "execute_result"
    }
   ],
   "source": [
    "ls"
   ]
  },
  {
   "cell_type": "code",
   "execution_count": 364,
   "metadata": {},
   "outputs": [
    {
     "data": {
      "text/plain": [
       "217.98755"
      ]
     },
     "execution_count": 364,
     "metadata": {},
     "output_type": "execute_result"
    }
   ],
   "source": [
    "(theta**2).sum()"
   ]
  },
  {
   "cell_type": "code",
   "execution_count": 374,
   "metadata": {},
   "outputs": [
    {
     "data": {
      "text/plain": [
       "array([2, 7, 6, 9, 1, 5, 3, 9, 2, 2])"
      ]
     },
     "execution_count": 374,
     "metadata": {},
     "output_type": "execute_result"
    }
   ],
   "source": [
    "prd[:10]"
   ]
  },
  {
   "cell_type": "code",
   "execution_count": 375,
   "metadata": {},
   "outputs": [
    {
     "data": {
      "text/plain": [
       "array([6, 7, 5, 9, 1, 5, 3, 9, 2, 2])"
      ]
     },
     "execution_count": 375,
     "metadata": {},
     "output_type": "execute_result"
    }
   ],
   "source": [
    "np.argmax(te_y.as_matrix(), axis=1)[:10]"
   ]
  },
  {
   "cell_type": "code",
   "execution_count": 380,
   "metadata": {},
   "outputs": [
    {
     "data": {
      "image/png": "[encoded data removed]",
      "text/plain": [
       "<matplotlib.figure.Figure at 0x7f6d4d311a58>"
      ]
     },
     "metadata": {},
     "output_type": "display_data"
    }
   ],
   "source": [
    "_, ax = plt.subplots()\n",
    "ax.matshow(te_x.iloc[7].values.reshape(28, 28))\n",
    "# ax.set_title(\"Label: %i\" % te_y.loc[rand_example])\n",
    "ax.grid(False)"
   ]
  }
 ],
 "metadata": {
  "kernelspec": {
   "display_name": "Python 3",
   "language": "python",
   "name": "python3"
  },
  "language_info": {
   "codemirror_mode": {
    "name": "ipython",
    "version": 3
   },
   "file_extension": ".py",
   "mimetype": "text/x-python",
   "name": "python",
   "nbconvert_exporter": "python",
   "pygments_lexer": "ipython3",
   "version": "3.6.3"
  }
 },
 "nbformat": 4,
 "nbformat_minor": 2
}
