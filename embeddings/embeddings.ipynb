{
 "cells": [
  {
   "cell_type": "code",
   "execution_count": 1,
   "metadata": {},
   "outputs": [
    {
     "name": "stderr",
     "output_type": "stream",
     "text": [
      "/home/shared/anaconda3/lib/python3.6/site-packages/h5py/__init__.py:36: FutureWarning: Conversion of the second argument of issubdtype from `float` to `np.floating` is deprecated. In future, it will be treated as `np.float64 == np.dtype(float).type`.\n",
      "  from ._conv import register_converters as _register_converters\n"
     ]
    }
   ],
   "source": [
    "from __future__ import print_function\n",
    "\n",
    "import collections\n",
    "import io\n",
    "import math\n",
    "\n",
    "import matplotlib.pyplot as plt\n",
    "import numpy as np\n",
    "import pandas as pd\n",
    "import tensorflow as tf\n",
    "from IPython import display\n",
    "from sklearn import metrics\n",
    "\n",
    "tf.logging.set_verbosity(tf.logging.ERROR)\n",
    "train_url = 'https://storage.googleapis.com/mledu-datasets/sparse-data-embedding/train.tfrecord'\n",
    "train_path = tf.keras.utils.get_file(train_url.split('/')[-1], train_url)\n",
    "test_url = 'https://storage.googleapis.com/mledu-datasets/sparse-data-embedding/test.tfrecord'\n",
    "test_path = tf.keras.utils.get_file(test_url.split('/')[-1], test_url)"
   ]
  },
  {
   "cell_type": "code",
   "execution_count": 2,
   "metadata": {},
   "outputs": [],
   "source": [
    "def _parse_function(record):\n",
    "  \"\"\"Extracts features and labels.\n",
    "  \n",
    "  Args:\n",
    "    record: File path to a TFRecord file    \n",
    "  Returns:\n",
    "    A `tuple` `(labels, features)`:\n",
    "      features: A dict of tensors representing the features\n",
    "      labels: A tensor with the corresponding labels.\n",
    "  \"\"\"\n",
    "  features = {\n",
    "    \"terms\": tf.VarLenFeature(dtype=tf.string), # terms are strings of varying lengths\n",
    "    \"labels\": tf.FixedLenFeature(shape=[1], dtype=tf.float32) # labels are 0 or 1\n",
    "  }\n",
    "  \n",
    "  parsed_features = tf.parse_single_example(record, features)\n",
    "  \n",
    "  terms = parsed_features['terms'].values\n",
    "  labels = parsed_features['labels']\n",
    "\n",
    "  return  {'terms':terms}, labels"
   ]
  },
  {
   "cell_type": "code",
   "execution_count": 3,
   "metadata": {},
   "outputs": [
    {
     "data": {
      "text/plain": [
       "<MapDataset shapes: ({terms: (?,)}, (1,)), types: ({terms: tf.string}, tf.float32)>"
      ]
     },
     "execution_count": 3,
     "metadata": {},
     "output_type": "execute_result"
    }
   ],
   "source": [
    "# Create the Dataset object.\n",
    "ds = tf.data.TFRecordDataset(train_path)\n",
    "# Map features and labels with the parse function.\n",
    "ds = ds.map(_parse_function)\n",
    "\n",
    "ds"
   ]
  },
  {
   "cell_type": "code",
   "execution_count": 4,
   "metadata": {},
   "outputs": [
    {
     "data": {
      "text/plain": [
       "({'terms': array([b'but', b'it', b'does', b'have', b'some', b'good', b'action',\n",
       "         b'and', b'a', b'plot', b'that', b'is', b'somewhat', b'interesting',\n",
       "         b'.', b'nevsky', b'acts', b'like', b'a', b'body', b'builder',\n",
       "         b'and', b'he', b'isn', b\"'\", b't', b'all', b'that', b'attractive',\n",
       "         b',', b'in', b'fact', b',', b'imo', b',', b'he', b'is', b'ugly',\n",
       "         b'.', b'(', b'his', b'acting', b'skills', b'lack', b'everything',\n",
       "         b'!', b')', b'sascha', b'is', b'played', b'very', b'well', b'by',\n",
       "         b'joanna', b'pacula', b',', b'but', b'she', b'needed', b'more',\n",
       "         b'lines', b'than', b'she', b'was', b'given', b',', b'her',\n",
       "         b'character', b'needed', b'to', b'be', b'developed', b'.',\n",
       "         b'there', b'are', b'way', b'too', b'many', b'men', b'in', b'this',\n",
       "         b'story', b',', b'there', b'is', b'zero', b'romance', b',', b'too',\n",
       "         b'much', b'action', b',', b'and', b'way', b'too', b'dumb', b'of',\n",
       "         b'an', b'ending', b'.', b'it', b'is', b'very', b'violent', b'.',\n",
       "         b'i', b'did', b'however', b'love', b'the', b'scenery', b',',\n",
       "         b'this', b'movie', b'takes', b'you', b'all', b'over', b'the',\n",
       "         b'world', b',', b'and', b'that', b'is', b'a', b'bonus', b'.', b'i',\n",
       "         b'also', b'liked', b'how', b'it', b'had', b'some', b'stuff',\n",
       "         b'about', b'the', b'mafia', b'in', b'it', b',', b'not', b'too',\n",
       "         b'much', b'or', b'too', b'little', b',', b'but', b'enough',\n",
       "         b'that', b'it', b'got', b'my', b'attention', b'.', b'the',\n",
       "         b'actors', b'needed', b'to', b'be', b'more', b'handsome', b'.',\n",
       "         b'.', b'.', b'the', b'biggest', b'problem', b'i', b'had', b'was',\n",
       "         b'that', b'nevsky', b'was', b'just', b'too', b'normal', b',',\n",
       "         b'not', b'sexy', b'enough', b'.', b'i', b'think', b'for', b'most',\n",
       "         b'guys', b',', b'sascha', b'will', b'be', b'hot', b'enough', b',',\n",
       "         b'but', b'for', b'us', b'ladies', b'that', b'are', b'fans', b'of',\n",
       "         b'action', b',', b'nevsky', b'just', b'doesn', b\"'\", b't', b'cut',\n",
       "         b'it', b'.', b'overall', b',', b'this', b'movie', b'was', b'fine',\n",
       "         b',', b'i', b'didn', b\"'\", b't', b'love', b'it', b'nor', b'did',\n",
       "         b'i', b'hate', b'it', b',', b'just', b'found', b'it', b'to', b'be',\n",
       "         b'another', b'normal', b'action', b'flick', b'.'], dtype=object)},\n",
       " array([0.], dtype=float32))"
      ]
     },
     "execution_count": 4,
     "metadata": {},
     "output_type": "execute_result"
    }
   ],
   "source": [
    "n = ds.make_one_shot_iterator().get_next()\n",
    "sess = tf.Session()\n",
    "sess.run(n)"
   ]
  },
  {
   "cell_type": "code",
   "execution_count": 32,
   "metadata": {},
   "outputs": [],
   "source": [
    "# Create an input_fn that parses the tf.Examples from the given files,\n",
    "# and split them into features and targets.\n",
    "def _input_fn(input_filenames, num_epochs=None, shuffle=True):\n",
    "  \n",
    "  # Same code as above; create a dataset and map features and labels.\n",
    "  ds = tf.data.TFRecordDataset(input_filenames)\n",
    "  ds = ds.map(_parse_function)\n",
    "\n",
    "  if shuffle:\n",
    "    ds = ds.shuffle(10000)\n",
    "\n",
    "  # Our feature data is variable-length, so we pad and batch\n",
    "  # each field of the dataset structure to whatever size is necessary.\n",
    "  ds = ds.padded_batch(25, ds.output_shapes)\n",
    "  \n",
    "  ds = ds.repeat(num_epochs)\n",
    "\n",
    "  \n",
    "  # Return the next batch of data.\n",
    "  features, labels = ds.make_one_shot_iterator().get_next()\n",
    "  return features, labels"
   ]
  },
  {
   "cell_type": "code",
   "execution_count": null,
   "metadata": {
    "collapsed": true
   },
   "outputs": [],
   "source": [
    "# 50 informative terms that compose our model vocabulary \n",
    "informative_terms = (\"bad\", \"great\", \"best\", \"worst\", \"fun\", \"beautiful\",\n",
    "                     \"excellent\", \"poor\", \"boring\", \"awful\", \"terrible\",\n",
    "                     \"definitely\", \"perfect\", \"liked\", \"worse\", \"waste\",\n",
    "                     \"entertaining\", \"loved\", \"unfortunately\", \"amazing\",\n",
    "                     \"enjoyed\", \"favorite\", \"horrible\", \"brilliant\", \"highly\",\n",
    "                     \"simple\", \"annoying\", \"today\", \"hilarious\", \"enjoyable\",\n",
    "                     \"dull\", \"fantastic\", \"poorly\", \"fails\", \"disappointing\",\n",
    "                     \"disappointment\", \"not\", \"him\", \"her\", \"good\", \"time\",\n",
    "                     \"?\", \".\", \"!\", \"movie\", \"film\", \"action\", \"comedy\",\n",
    "                     \"drama\", \"family\")"
   ]
  },
  {
   "cell_type": "code",
   "execution_count": 100,
   "metadata": {
    "collapsed": true
   },
   "outputs": [],
   "source": [
    "terms_feature_column = tf.feature_column.categorical_column_with_vocabulary_list(key=\"terms\", vocabulary_list=informative_terms)"
   ]
  },
  {
   "cell_type": "code",
   "execution_count": 33,
   "metadata": {
    "scrolled": false
   },
   "outputs": [
    {
     "name": "stdout",
     "output_type": "stream",
     "text": [
      "Training set metrics:\n",
      "accuracy 0.78784\n",
      "accuracy_baseline 0.5\n",
      "auc 0.87139326\n",
      "auc_precision_recall 0.862666\n",
      "average_loss 0.45101997\n",
      "label/mean 0.5\n",
      "loss 11.275499\n",
      "prediction/mean 0.49560136\n",
      "global_step 1000\n",
      "---\n",
      "Test set metrics:\n",
      "accuracy 0.78392\n",
      "accuracy_baseline 0.5\n",
      "auc 0.8689901\n",
      "auc_precision_recall 0.8594011\n",
      "average_loss 0.45290294\n",
      "label/mean 0.5\n",
      "loss 11.322574\n",
      "prediction/mean 0.49396253\n",
      "global_step 1000\n",
      "---\n"
     ]
    }
   ],
   "source": [
    "my_optimizer = tf.train.AdagradOptimizer(learning_rate=0.1)\n",
    "my_optimizer = tf.contrib.estimator.clip_gradients_by_norm(my_optimizer, 5.0)\n",
    "\n",
    "feature_columns = [ terms_feature_column ]\n",
    "\n",
    "\n",
    "classifier = tf.estimator.LinearClassifier(\n",
    "  feature_columns=feature_columns,\n",
    "  optimizer=my_optimizer,\n",
    "  model_dir='data/model_dir/linear'\n",
    ")\n",
    "\n",
    "classifier.train(\n",
    "  input_fn=lambda: _input_fn([train_path]),\n",
    "  steps=1000)\n",
    "\n",
    "evaluation_metrics = classifier.evaluate(\n",
    "  input_fn=lambda: _input_fn([train_path]),\n",
    "  steps=1000)\n",
    "print(\"Training set metrics:\")\n",
    "for m in evaluation_metrics:\n",
    "  print(m, evaluation_metrics[m])\n",
    "print(\"---\")\n",
    "\n",
    "evaluation_metrics = classifier.evaluate(\n",
    "  input_fn=lambda: _input_fn([test_path]),\n",
    "  steps=1000)\n",
    "\n",
    "print(\"Test set metrics:\")\n",
    "for m in evaluation_metrics:\n",
    "  print(m, evaluation_metrics[m])\n",
    "print(\"---\")"
   ]
  },
  {
   "cell_type": "code",
   "execution_count": 104,
   "metadata": {},
   "outputs": [
    {
     "data": {
      "text/plain": [
       "[('global_step', []),\n",
       " ('linear/linear_model/bias_weights', [1]),\n",
       " ('linear/linear_model/bias_weights/part_0/Adagrad', [1]),\n",
       " ('linear/linear_model/terms/weights', [30711, 1]),\n",
       " ('linear/linear_model/terms/weights/part_0/Adagrad', [30711, 1])]"
      ]
     },
     "execution_count": 104,
     "metadata": {},
     "output_type": "execute_result"
    }
   ],
   "source": [
    "tf.train.list_variables('data/model_dir/linear')"
   ]
  },
  {
   "cell_type": "code",
   "execution_count": 55,
   "metadata": {},
   "outputs": [
    {
     "data": {
      "text/plain": [
       "['global_step',\n",
       " 'linear/linear_model/bias_weights',\n",
       " 'linear/linear_model/bias_weights/part_0/Adagrad',\n",
       " 'linear/linear_model/terms/weights',\n",
       " 'linear/linear_model/terms/weights/part_0/Adagrad']"
      ]
     },
     "execution_count": 55,
     "metadata": {},
     "output_type": "execute_result"
    }
   ],
   "source": [
    "classifier.get_variable_names()"
   ]
  },
  {
   "cell_type": "code",
   "execution_count": 35,
   "metadata": {},
   "outputs": [
    {
     "name": "stdout",
     "output_type": "stream",
     "text": [
      "Training set metrics:\n",
      "accuracy 0.72\n",
      "accuracy_baseline 0.64\n",
      "auc 0.8715277\n",
      "auc_precision_recall 0.7988298\n",
      "average_loss 0.46621606\n",
      "label/mean 0.36\n",
      "loss 11.655401\n",
      "prediction/mean 0.471188\n",
      "global_step 1000\n",
      "---\n",
      "Test set metrics:\n",
      "accuracy 0.72\n",
      "accuracy_baseline 0.56\n",
      "auc 0.72402596\n",
      "auc_precision_recall 0.8374517\n",
      "average_loss 0.6752521\n",
      "label/mean 0.56\n",
      "loss 16.881302\n",
      "prediction/mean 0.47568375\n",
      "global_step 1000\n",
      "---\n"
     ]
    }
   ],
   "source": [
    "##################### Here's what we changed ##################################\n",
    "classifier = tf.estimator.DNNClassifier(                                      #\n",
    "  feature_columns=[tf.feature_column.indicator_column(terms_feature_column)], #\n",
    "  hidden_units=[20,20],                                                       #\n",
    "  optimizer=my_optimizer,\n",
    "  model_dir='data/model_dir'                                                     #\n",
    ")                                                                             #\n",
    "###############################################################################\n",
    "\n",
    "try:\n",
    "  classifier.train(\n",
    "    input_fn=lambda: _input_fn([train_path]),\n",
    "    steps=1000)\n",
    "\n",
    "  evaluation_metrics = classifier.evaluate(\n",
    "    input_fn=lambda: _input_fn([train_path]),\n",
    "    steps=1)\n",
    "  print(\"Training set metrics:\")\n",
    "  for m in evaluation_metrics:\n",
    "    print(m, evaluation_metrics[m])\n",
    "  print(\"---\")\n",
    "\n",
    "  evaluation_metrics = classifier.evaluate(\n",
    "    input_fn=lambda: _input_fn([test_path]),\n",
    "    steps=1)\n",
    "\n",
    "  print(\"Test set metrics:\")\n",
    "  for m in evaluation_metrics:\n",
    "    print(m, evaluation_metrics[m])\n",
    "  print(\"---\")\n",
    "except ValueError as err:\n",
    "  print(err)"
   ]
  },
  {
   "cell_type": "code",
   "execution_count": 78,
   "metadata": {
    "scrolled": false
   },
   "outputs": [
    {
     "name": "stdout",
     "output_type": "stream",
     "text": [
      "Training set metrics:\n",
      "accuracy 0.79028\n",
      "accuracy_baseline 0.5\n",
      "auc 0.8711458\n",
      "auc_precision_recall 0.8599313\n",
      "average_loss 0.44886264\n",
      "label/mean 0.5\n",
      "loss 11.221566\n",
      "prediction/mean 0.50336444\n",
      "global_step 3000\n",
      "---\n",
      "Test set metrics:\n",
      "accuracy 0.78496\n",
      "accuracy_baseline 0.5\n",
      "auc 0.8703922\n",
      "auc_precision_recall 0.8580332\n",
      "average_loss 0.44998297\n",
      "label/mean 0.5\n",
      "loss 11.249575\n",
      "prediction/mean 0.5033612\n",
      "global_step 3000\n",
      "---\n"
     ]
    }
   ],
   "source": [
    "########################## YOUR CODE HERE ######################################\n",
    "terms_embedding_column = tf.feature_column.embedding_column(terms_feature_column, 2)\n",
    "feature_columns = [terms_embedding_column]\n",
    "# emb_opt = tf.train.AdagradOptimizer(learning_rate=.1)\n",
    "# emb_opt = tf.contrib.estimator.clip_gradients_by_norm(emb_opt, 5.0)\n",
    "\n",
    "classifier_emb = tf.estimator.DNNClassifier(feature_columns=feature_columns,\n",
    "                                       hidden_units=[20,20],\n",
    "                                       optimizer=my_optimizer,\n",
    "                                       model_dir='data/model_dir/dnn'\n",
    "                                           )\n",
    "################################################################################\n",
    "\n",
    "classifier_emb.train(\n",
    "  input_fn=lambda: _input_fn([train_path]),\n",
    "  steps=1000)\n",
    "\n",
    "evaluation_metrics = classifier_emb.evaluate(\n",
    "  input_fn=lambda: _input_fn([train_path]),\n",
    "  steps=1000)\n",
    "print(\"Training set metrics:\")\n",
    "for m in evaluation_metrics:\n",
    "  print(m, evaluation_metrics[m])\n",
    "print(\"---\")\n",
    "\n",
    "evaluation_metrics = classifier_emb.evaluate(\n",
    "  input_fn=lambda: _input_fn([test_path]),\n",
    "  steps=1000)\n",
    "\n",
    "print(\"Test set metrics:\")\n",
    "for m in evaluation_metrics:\n",
    "  print(m, evaluation_metrics[m])\n",
    "print(\"---\")"
   ]
  },
  {
   "cell_type": "code",
   "execution_count": 68,
   "metadata": {},
   "outputs": [
    {
     "data": {
      "text/plain": [
       "[('dnn/hiddenlayer_0/bias', [20]),\n",
       " ('dnn/hiddenlayer_0/bias/t_0/Adagrad', [20]),\n",
       " ('dnn/hiddenlayer_0/kernel', [2, 20]),\n",
       " ('dnn/hiddenlayer_0/kernel/t_0/Adagrad', [2, 20]),\n",
       " ('dnn/hiddenlayer_1/bias', [20]),\n",
       " ('dnn/hiddenlayer_1/bias/t_0/Adagrad', [20]),\n",
       " ('dnn/hiddenlayer_1/kernel', [20, 20]),\n",
       " ('dnn/hiddenlayer_1/kernel/t_0/Adagrad', [20, 20]),\n",
       " ('dnn/input_from_feature_columns/input_layer/terms_embedding/embedding_weights',\n",
       "  [50, 2]),\n",
       " ('dnn/input_from_feature_columns/input_layer/terms_embedding/embedding_weights/t_0/Adagrad',\n",
       "  [50, 2]),\n",
       " ('dnn/logits/bias', [1]),\n",
       " ('dnn/logits/bias/t_0/Adagrad', [1]),\n",
       " ('dnn/logits/kernel', [20, 1]),\n",
       " ('dnn/logits/kernel/t_0/Adagrad', [20, 1]),\n",
       " ('global_step', [])]"
      ]
     },
     "execution_count": 68,
     "metadata": {},
     "output_type": "execute_result"
    }
   ],
   "source": [
    "tf.train.list_variables('data/model_dir/dnn/')"
   ]
  },
  {
   "cell_type": "code",
   "execution_count": 64,
   "metadata": {},
   "outputs": [
    {
     "data": {
      "text/plain": [
       "['dnn/hiddenlayer_0/bias',\n",
       " 'dnn/hiddenlayer_0/bias/t_0/Adagrad',\n",
       " 'dnn/hiddenlayer_0/kernel',\n",
       " 'dnn/hiddenlayer_0/kernel/t_0/Adagrad',\n",
       " 'dnn/hiddenlayer_1/bias',\n",
       " 'dnn/hiddenlayer_1/bias/t_0/Adagrad',\n",
       " 'dnn/hiddenlayer_1/kernel',\n",
       " 'dnn/hiddenlayer_1/kernel/t_0/Adagrad',\n",
       " 'dnn/input_from_feature_columns/input_layer/terms_embedding/embedding_weights',\n",
       " 'dnn/input_from_feature_columns/input_layer/terms_embedding/embedding_weights/t_0/Adagrad',\n",
       " 'dnn/logits/bias',\n",
       " 'dnn/logits/bias/t_0/Adagrad',\n",
       " 'dnn/logits/kernel',\n",
       " 'dnn/logits/kernel/t_0/Adagrad',\n",
       " 'global_step']"
      ]
     },
     "execution_count": 64,
     "metadata": {},
     "output_type": "execute_result"
    }
   ],
   "source": [
    "classifier_emb.get_variable_names()"
   ]
  },
  {
   "cell_type": "code",
   "execution_count": 70,
   "metadata": {},
   "outputs": [
    {
     "data": {
      "text/plain": [
       "(50, 2)"
      ]
     },
     "execution_count": 70,
     "metadata": {},
     "output_type": "execute_result"
    }
   ],
   "source": [
    "classifier_emb.get_variable_value('dnn/input_from_feature_columns/input_layer/terms_embedding/embedding_weights').shape"
   ]
  },
  {
   "cell_type": "code",
   "execution_count": 73,
   "metadata": {},
   "outputs": [
    {
     "data": {
      "text/plain": [
       "array([3.70717430e+00, 3.56318176e-01, 3.19678802e+01, 4.97188446e+02,\n",
       "       9.56823059e+02, 1.25975174e+02, 1.87035706e+02, 6.21847778e+02,\n",
       "       4.39133346e-01, 4.38501190e+02, 3.92453700e-01, 6.49897766e+01,\n",
       "       4.36379284e-01, 2.10909200e+00, 3.91118286e+02, 4.47625828e+00,\n",
       "       5.33366919e-01, 4.11251307e-01, 4.65225965e-01, 3.87511383e+02],\n",
       "      dtype=float32)"
      ]
     },
     "execution_count": 73,
     "metadata": {},
     "output_type": "execute_result"
    }
   ],
   "source": [
    "classifier_emb.get_variable_value('dnn/hiddenlayer_0/bias/t_0/Adagrad')"
   ]
  },
  {
   "cell_type": "code",
   "execution_count": 74,
   "metadata": {},
   "outputs": [
    {
     "data": {
      "text/plain": [
       "array([-0.098754  , -0.08799189,  0.18853116,  0.28282598,  0.17448923,\n",
       "        0.08026265,  0.33480424,  0.34867716, -0.10310753,  0.08943922,\n",
       "       -0.22466135,  0.09749097, -0.11584431, -0.07575903,  0.10598472,\n",
       "       -0.09442057, -0.09384649, -0.23686561, -0.18329526,  0.1382795 ],\n",
       "      dtype=float32)"
      ]
     },
     "execution_count": 74,
     "metadata": {},
     "output_type": "execute_result"
    }
   ],
   "source": [
    "classifier_emb.get_variable_value('dnn/hiddenlayer_0/bias')"
   ]
  },
  {
   "cell_type": "code",
   "execution_count": 79,
   "metadata": {},
   "outputs": [
    {
     "data": {
      "image/png": "[encoded data removed]",
      "text/plain": [
       "<matplotlib.figure.Figure at 0x7f3ccf799cc0>"
      ]
     },
     "metadata": {},
     "output_type": "display_data"
    }
   ],
   "source": [
    "import numpy as np\n",
    "import matplotlib.pyplot as plt\n",
    "\n",
    "embedding_matrix = classifier_emb.get_variable_value('dnn/input_from_feature_columns/input_layer/terms_embedding/embedding_weights')\n",
    "\n",
    "for term_index in range(len(informative_terms)):\n",
    "  # Create a one-hot encoding for our term. It has 0s everywhere, except for\n",
    "  # a single 1 in the coordinate that corresponds to that term.\n",
    "  term_vector = np.zeros(len(informative_terms))\n",
    "  term_vector[term_index] = 1\n",
    "  # We'll now project that one-hot vector into the embedding space.\n",
    "  embedding_xy = np.matmul(term_vector, embedding_matrix)\n",
    "  plt.text(embedding_xy[0],\n",
    "           embedding_xy[1],\n",
    "           informative_terms[term_index])\n",
    "\n",
    "# Do a little setup to make sure the plot displays nicely.\n",
    "plt.rcParams[\"figure.figsize\"] = (15, 15)\n",
    "plt.xlim(1.2 * embedding_matrix.min(), 1.2 * embedding_matrix.max())\n",
    "plt.ylim(1.2 * embedding_matrix.min(), 1.2 * embedding_matrix.max())\n",
    "plt.show() "
   ]
  },
  {
   "cell_type": "code",
   "execution_count": 77,
   "metadata": {},
   "outputs": [
    {
     "data": {
      "image/png": "[encoded data removed]",
      "text/plain": [
       "<matplotlib.figure.Figure at 0x7f3ce31e3f60>"
      ]
     },
     "metadata": {},
     "output_type": "display_data"
    }
   ],
   "source": [
    "import numpy as np\n",
    "import matplotlib.pyplot as plt\n",
    "\n",
    "embedding_matrix = classifier_emb.get_variable_value('dnn/input_from_feature_columns/input_layer/terms_embedding/embedding_weights')\n",
    "\n",
    "for term_index in range(len(informative_terms)):\n",
    "  # Create a one-hot encoding for our term. It has 0s everywhere, except for\n",
    "  # a single 1 in the coordinate that corresponds to that term.\n",
    "  term_vector = np.zeros(len(informative_terms))\n",
    "  term_vector[term_index] = 1\n",
    "  # We'll now project that one-hot vector into the embedding space.\n",
    "  embedding_xy = np.matmul(term_vector, embedding_matrix)\n",
    "  plt.text(embedding_xy[0],\n",
    "           embedding_xy[1],\n",
    "           informative_terms[term_index])\n",
    "\n",
    "# Do a little setup to make sure the plot displays nicely.\n",
    "plt.rcParams[\"figure.figsize\"] = (15, 15)\n",
    "plt.xlim(1.2 * embedding_matrix.min(), 1.2 * embedding_matrix.max())\n",
    "plt.ylim(1.2 * embedding_matrix.min(), 1.2 * embedding_matrix.max())\n",
    "plt.show() "
   ]
  },
  {
   "cell_type": "code",
   "execution_count": 81,
   "metadata": {},
   "outputs": [
    {
     "name": "stdout",
     "output_type": "stream",
     "text": [
      "--2018-06-21 20:05:16--  https://storage.googleapis.com/mledu-datasets/sparse-data-embedding/terms.txt\n",
      "Resolving storage.googleapis.com (storage.googleapis.com)... 173.194.222.128, 2a00:1450:4010:c0f::80\n",
      "Connecting to storage.googleapis.com (storage.googleapis.com)|173.194.222.128|:443... connected.\n",
      "HTTP request sent, awaiting response... 200 OK\n",
      "Length: 253538 (248K) [text/plain]\n",
      "Saving to: ‘./data/terms.txt’\n",
      "\n",
      "./data/terms.txt    100%[===================>] 247.60K  1.59MB/s    in 0.2s    \n",
      "\n",
      "2018-06-21 20:05:17 (1.59 MB/s) - ‘./data/terms.txt’ saved [253538/253538]\n",
      "\n"
     ]
    }
   ],
   "source": [
    "!wget https://storage.googleapis.com/mledu-datasets/sparse-data-embedding/terms.txt -O ./data/terms.txt"
   ]
  },
  {
   "cell_type": "code",
   "execution_count": 94,
   "metadata": {},
   "outputs": [
    {
     "name": "stdout",
     "output_type": "stream",
     "text": [
      "Downloading data from https://storage.googleapis.com/mledu-datasets/sparse-data-embedding/terms.txt\n",
      "253952/253538 [==============================] - 0s 1us/step\n"
     ]
    }
   ],
   "source": [
    "# Download the vocabulary file.\n",
    "terms_url = 'https://storage.googleapis.com/mledu-datasets/sparse-data-embedding/terms.txt'\n",
    "terms_path = tf.keras.utils.get_file(terms_url.split('/')[-1], terms_url)"
   ]
  },
  {
   "cell_type": "code",
   "execution_count": 97,
   "metadata": {},
   "outputs": [
    {
     "data": {
      "text/plain": [
       "10237"
      ]
     },
     "execution_count": 97,
     "metadata": {},
     "output_type": "execute_result"
    }
   ],
   "source": [
    "len(informative_terms[::3])"
   ]
  },
  {
   "cell_type": "code",
   "execution_count": 95,
   "metadata": {},
   "outputs": [
    {
     "name": "stdout",
     "output_type": "stream",
     "text": [
      "Training set metrics:\n",
      "accuracy 0.82876\n",
      "accuracy_baseline 0.5\n",
      "auc 0.90633345\n",
      "auc_precision_recall 0.90333533\n",
      "average_loss 0.38967022\n",
      "label/mean 0.5\n",
      "loss 9.7417555\n",
      "prediction/mean 0.51726073\n",
      "global_step 1000\n",
      "---\n",
      "Test set metrics:\n",
      "accuracy 0.81332\n",
      "accuracy_baseline 0.5\n",
      "auc 0.893895\n",
      "auc_precision_recall 0.8905452\n",
      "average_loss 0.41324052\n",
      "label/mean 0.5\n",
      "loss 10.331013\n",
      "prediction/mean 0.51372135\n",
      "global_step 1000\n",
      "---\n"
     ]
    }
   ],
   "source": [
    "# Create a feature column from \"terms\", using a full vocabulary file.\n",
    "informative_terms = None\n",
    "with io.open(terms_path, 'r', encoding='utf8') as f:\n",
    "  # Convert it to a set first to remove duplicates.\n",
    "  informative_terms = list(set(f.read().split()))\n",
    "  \n",
    "terms_feature_column = tf.feature_column.categorical_column_with_vocabulary_list(key=\"terms\", \n",
    "                                                                                 vocabulary_list=informative_terms)\n",
    "\n",
    "terms_embedding_column = tf.feature_column.embedding_column(terms_feature_column, dimension=2)\n",
    "feature_columns = [ terms_embedding_column ]\n",
    "\n",
    "my_optimizer = tf.train.AdagradOptimizer(learning_rate=0.1)\n",
    "my_optimizer = tf.contrib.estimator.clip_gradients_by_norm(my_optimizer, 5.0)\n",
    "\n",
    "classifier = tf.estimator.DNNClassifier(\n",
    "  feature_columns=feature_columns,\n",
    "  hidden_units=[10,10],\n",
    "  optimizer=my_optimizer\n",
    ")\n",
    "\n",
    "classifier.train(\n",
    "  input_fn=lambda: _input_fn([train_path]),\n",
    "  steps=1000)\n",
    "\n",
    "evaluation_metrics = classifier.evaluate(\n",
    "  input_fn=lambda: _input_fn([train_path]),\n",
    "  steps=1000)\n",
    "print(\"Training set metrics:\")\n",
    "for m in evaluation_metrics:\n",
    "  print(m, evaluation_metrics[m])\n",
    "print(\"---\")\n",
    "\n",
    "evaluation_metrics = classifier.evaluate(\n",
    "  input_fn=lambda: _input_fn([test_path]),\n",
    "  steps=1000)\n",
    "\n",
    "print(\"Test set metrics:\")\n",
    "for m in evaluation_metrics:\n",
    "  print(m, evaluation_metrics[m])\n",
    "print(\"---\")"
   ]
  },
  {
   "cell_type": "code",
   "execution_count": 99,
   "metadata": {},
   "outputs": [
    {
     "name": "stdout",
     "output_type": "stream",
     "text": [
      "Training set metrics:\n",
      "accuracy 0.86956\n",
      "accuracy_baseline 0.5\n",
      "auc 0.93945175\n",
      "auc_precision_recall 0.9369658\n",
      "average_loss 0.3190333\n",
      "label/mean 0.5\n",
      "loss 7.9758325\n",
      "prediction/mean 0.5254478\n",
      "global_step 1000\n",
      "---\n",
      "Test set metrics:\n",
      "accuracy 0.84704\n",
      "accuracy_baseline 0.5\n",
      "auc 0.9239096\n",
      "auc_precision_recall 0.92056435\n",
      "average_loss 0.35561672\n",
      "label/mean 0.5\n",
      "loss 8.890418\n",
      "prediction/mean 0.5247382\n",
      "global_step 1000\n",
      "---\n"
     ]
    }
   ],
   "source": [
    "# Create a feature column from \"terms\", using a full vocabulary file.\n",
    "informative_terms = None\n",
    "with io.open(terms_path, 'r', encoding='utf8') as f:\n",
    "  # Convert it to a set first to remove duplicates.\n",
    "  informative_terms = list(set(f.read().split()))\n",
    "  \n",
    "terms_feature_column = tf.feature_column.categorical_column_with_vocabulary_list(key=\"terms\", \n",
    "                                                                                 vocabulary_list=informative_terms)\n",
    "\n",
    "terms_embedding_column = tf.feature_column.embedding_column(terms_feature_column, dimension=10)\n",
    "feature_columns = [ terms_embedding_column ]\n",
    "\n",
    "my_optimizer = tf.train.AdagradOptimizer(learning_rate=0.1)\n",
    "my_optimizer = tf.contrib.estimator.clip_gradients_by_norm(my_optimizer, 5.0)\n",
    "\n",
    "classifier = tf.estimator.DNNClassifier(\n",
    "  feature_columns=feature_columns,\n",
    "  hidden_units=[10,10],\n",
    "  optimizer=my_optimizer\n",
    ")\n",
    "\n",
    "classifier.train(\n",
    "  input_fn=lambda: _input_fn([train_path]),\n",
    "  steps=1000)\n",
    "\n",
    "evaluation_metrics = classifier.evaluate(\n",
    "  input_fn=lambda: _input_fn([train_path]),\n",
    "  steps=1000)\n",
    "print(\"Training set metrics:\")\n",
    "for m in evaluation_metrics:\n",
    "  print(m, evaluation_metrics[m])\n",
    "print(\"---\")\n",
    "\n",
    "evaluation_metrics = classifier.evaluate(\n",
    "  input_fn=lambda: _input_fn([test_path]),\n",
    "  steps=1000)\n",
    "\n",
    "print(\"Test set metrics:\")\n",
    "for m in evaluation_metrics:\n",
    "  print(m, evaluation_metrics[m])\n",
    "print(\"---\")"
   ]
  },
  {
   "cell_type": "markdown",
   "metadata": {},
   "source": [
    "# Shuffle word order"
   ]
  },
  {
   "cell_type": "code",
   "execution_count": 21,
   "metadata": {},
   "outputs": [],
   "source": [
    "def _parse_function_shuffle(record):\n",
    "  \"\"\"Extracts features and labels.\n",
    "  \n",
    "  Args:\n",
    "    record: File path to a TFRecord file    \n",
    "  Returns:\n",
    "    A `tuple` `(labels, features)`:\n",
    "      features: A dict of tensors representing the features\n",
    "      labels: A tensor with the corresponding labels.\n",
    "  \"\"\"\n",
    "  features = {\n",
    "    \"terms\": tf.VarLenFeature(dtype=tf.string), # terms are strings of varying lengths\n",
    "    \"labels\": tf.FixedLenFeature(shape=[1], dtype=tf.float32) # labels are 0 or 1\n",
    "  }\n",
    "  \n",
    "  parsed_features = tf.parse_single_example(record, features)\n",
    "  \n",
    "  terms = tf.random_shuffle(parsed_features['terms'].values, seed=442)\n",
    "#   print(type(terms))\n",
    "#   np.random.shuffle(terms)\n",
    "  labels = parsed_features['labels']\n",
    "\n",
    "  return  {'terms':terms}, labels"
   ]
  },
  {
   "cell_type": "code",
   "execution_count": 36,
   "metadata": {},
   "outputs": [
    {
     "data": {
      "text/plain": [
       "<MapDataset shapes: ({terms: (?,)}, (1,)), types: ({terms: tf.string}, tf.float32)>"
      ]
     },
     "execution_count": 36,
     "metadata": {},
     "output_type": "execute_result"
    }
   ],
   "source": [
    "# Create the Dataset object.\n",
    "ds = tf.data.TFRecordDataset(train_path)\n",
    "# Map features and labels with the parse function.\n",
    "ds = ds.map(_parse_function_shuffle)\n",
    "\n",
    "ds"
   ]
  },
  {
   "cell_type": "code",
   "execution_count": 37,
   "metadata": {},
   "outputs": [
    {
     "data": {
      "text/plain": [
       "({'terms': array([b'plot', b'world', b'will', b'but', b'nor', b'to', b'this', b'way',\n",
       "         b'have', b'is', b'played', b'acting', b\"'\", b'was', b'.', b'an',\n",
       "         b'had', b'too', b'is', b'the', b'dumb', b'movie', b'normal',\n",
       "         b'builder', b'action', b'normal', b',', b'action', b'skills', b'.',\n",
       "         b'.', b'men', b'a', b't', b'well', b'she', b'biggest', b'imo',\n",
       "         b'hot', b'enough', b'this', b',', b',', b'there', b'the', b'of',\n",
       "         b'.', b'isn', b'given', b'mafia', b'does', b'cut', b'to', b'it',\n",
       "         b'.', b'attention', b'.', b'too', b'the', b'i', b'sascha', b'is',\n",
       "         b'takes', b'it', b'joanna', b'and', b'it', b'attractive', b\"'\",\n",
       "         b'or', b'us', b'fact', b'got', b'lack', b'all', b'all', b',',\n",
       "         b'doesn', b'and', b'be', b'handsome', b'over', b'movie', b',',\n",
       "         b'by', b'and', b't', b'it', b'than', b'this', b'ending', b\"'\",\n",
       "         b'needed', b'sexy', b'there', b'too', b'!', b'it', b'nevsky', b',',\n",
       "         b'action', b'be', b'that', b'love', b'more', b'romance', b'bonus',\n",
       "         b'just', b'most', b'little', b',', b'also', b'like', b',',\n",
       "         b'lines', b'in', b'be', b'a', b'fine', b'scenery', b'are', b'to',\n",
       "         b'the', b'body', b'action', b'he', b'just', b'the', b'in', b'i',\n",
       "         b'enough', b'not', b'i', b'more', b'think', b'are', b',', b'a',\n",
       "         b'good', b'everything', b'that', b'ladies', b'another', b'.',\n",
       "         b'had', b'story', b'you', b'problem', b',', b'in', b'ugly',\n",
       "         b'pacula', b'.', b'way', b'but', b'it', b'i', b'some', b'.', b't',\n",
       "         b'actors', b'nevsky', b'was', b'(', b'too', b'is', b'her', b'my',\n",
       "         b'did', b'just', b'guys', b'that', b'too', b'some', b')', b',',\n",
       "         b'enough', b'it', b'about', b'she', b'overall', b'how', b'much',\n",
       "         b'stuff', b'but', b',', b'needed', b'was', b'very', b',', b'that',\n",
       "         b'sascha', b',', b',', b'needed', b'much', b'very', b'but',\n",
       "         b'acts', b'he', b'not', b'it', b'is', b'nevsky', b'found',\n",
       "         b'developed', b'i', b'liked', b'.', b'.', b'.', b'violent', b'too',\n",
       "         b'his', b'hate', b'love', b'of', b'zero', b'many', b'i', b',',\n",
       "         b',', b'interesting', b'didn', b',', b'flick', b'somewhat',\n",
       "         b'fans', b'be', b'did', b'for', b'and', b'for', b'that', b'was',\n",
       "         b'however', b',', b'is', b'.', b'character', b'that', b'it'],\n",
       "        dtype=object)}, array([0.], dtype=float32))"
      ]
     },
     "execution_count": 37,
     "metadata": {},
     "output_type": "execute_result"
    }
   ],
   "source": [
    "n = ds.make_one_shot_iterator().get_next()\n",
    "sess = tf.Session()\n",
    "sess.run(n)"
   ]
  },
  {
   "cell_type": "code",
   "execution_count": 28,
   "metadata": {},
   "outputs": [],
   "source": [
    "# Create an input_fn that parses the tf.Examples from the given files,\n",
    "# and split them into features and targets.\n",
    "def _input_fn_shuffle(input_filenames, num_epochs=None, shuffle=True):\n",
    "  \n",
    "  # Same code as above; create a dataset and map features and labels.\n",
    "  ds = tf.data.TFRecordDataset(input_filenames)\n",
    "  ds = ds.map(_parse_function_shuffle)\n",
    "\n",
    "  if shuffle:\n",
    "    ds = ds.shuffle(10000)\n",
    "\n",
    "  # Our feature data is variable-length, so we pad and batch\n",
    "  # each field of the dataset structure to whatever size is necessary.\n",
    "  ds = ds.padded_batch(25, ds.output_shapes)\n",
    "  \n",
    "  ds = ds.repeat(num_epochs)\n",
    "\n",
    "  \n",
    "  # Return the next batch of data.\n",
    "  features, labels = ds.make_one_shot_iterator().get_next()\n",
    "  return features, labels"
   ]
  },
  {
   "cell_type": "code",
   "execution_count": 29,
   "metadata": {},
   "outputs": [],
   "source": [
    "# 50 informative terms that compose our model vocabulary \n",
    "informative_terms = (\"bad\", \"great\", \"best\", \"worst\", \"fun\", \"beautiful\",\n",
    "                     \"excellent\", \"poor\", \"boring\", \"awful\", \"terrible\",\n",
    "                     \"definitely\", \"perfect\", \"liked\", \"worse\", \"waste\",\n",
    "                     \"entertaining\", \"loved\", \"unfortunately\", \"amazing\",\n",
    "                     \"enjoyed\", \"favorite\", \"horrible\", \"brilliant\", \"highly\",\n",
    "                     \"simple\", \"annoying\", \"today\", \"hilarious\", \"enjoyable\",\n",
    "                     \"dull\", \"fantastic\", \"poorly\", \"fails\", \"disappointing\",\n",
    "                     \"disappointment\", \"not\", \"him\", \"her\", \"good\", \"time\",\n",
    "                     \"?\", \".\", \"!\", \"movie\", \"film\", \"action\", \"comedy\",\n",
    "                     \"drama\", \"family\")"
   ]
  },
  {
   "cell_type": "code",
   "execution_count": 30,
   "metadata": {},
   "outputs": [],
   "source": [
    "terms_feature_column = tf.feature_column.categorical_column_with_vocabulary_list(key=\"terms\", vocabulary_list=informative_terms)"
   ]
  },
  {
   "cell_type": "code",
   "execution_count": 46,
   "metadata": {
    "scrolled": false
   },
   "outputs": [
    {
     "name": "stdout",
     "output_type": "stream",
     "text": [
      "Training set metrics:\n",
      "accuracy 0.79044\n",
      "accuracy_baseline 0.5\n",
      "auc 0.8734751\n",
      "auc_precision_recall 0.8650465\n",
      "average_loss 0.44807667\n",
      "label/mean 0.5\n",
      "loss 11.201917\n",
      "prediction/mean 0.4927893\n",
      "global_step 4000\n",
      "---\n",
      "Test set metrics:\n",
      "accuracy 0.78568\n",
      "accuracy_baseline 0.5\n",
      "auc 0.8714489\n",
      "auc_precision_recall 0.86252797\n",
      "average_loss 0.44946197\n",
      "label/mean 0.5\n",
      "loss 11.236548\n",
      "prediction/mean 0.4919817\n",
      "global_step 4000\n",
      "---\n"
     ]
    }
   ],
   "source": [
    "my_optimizer = tf.train.AdagradOptimizer(learning_rate=0.1)\n",
    "my_optimizer = tf.contrib.estimator.clip_gradients_by_norm(my_optimizer, 5.0)\n",
    "\n",
    "feature_columns = [ terms_feature_column ]\n",
    "\n",
    "\n",
    "classifier = tf.estimator.LinearClassifier(\n",
    "  feature_columns=feature_columns,\n",
    "  optimizer=my_optimizer,\n",
    "  model_dir='data/model_dir/linear'\n",
    ")\n",
    "\n",
    "classifier.train(\n",
    "  input_fn=lambda: _input_fn_shuffle([train_path]),\n",
    "  steps=1000)\n",
    "\n",
    "evaluation_metrics = classifier.evaluate(\n",
    "  input_fn=lambda: _input_fn_shuffle([train_path]),\n",
    "  steps=1000)\n",
    "print(\"Training set metrics:\")\n",
    "for m in evaluation_metrics:\n",
    "  print(m, evaluation_metrics[m])\n",
    "print(\"---\")\n",
    "\n",
    "evaluation_metrics = classifier.evaluate(\n",
    "  input_fn=lambda: _input_fn([test_path]),\n",
    "  steps=1000)\n",
    "\n",
    "print(\"Test set metrics:\")\n",
    "for m in evaluation_metrics:\n",
    "  print(m, evaluation_metrics[m])\n",
    "print(\"---\")"
   ]
  },
  {
   "cell_type": "code",
   "execution_count": 52,
   "metadata": {},
   "outputs": [
    {
     "name": "stdout",
     "output_type": "stream",
     "text": [
      "Training set metrics:\n",
      "accuracy 0.7916\n",
      "accuracy_baseline 0.5\n",
      "auc 0.88010305\n",
      "auc_precision_recall 0.8720004\n",
      "average_loss 0.43761587\n",
      "label/mean 0.5\n",
      "loss 10.940396\n",
      "prediction/mean 0.52669406\n",
      "global_step 6000\n",
      "---\n",
      "Test set metrics:\n",
      "accuracy 0.78684\n",
      "accuracy_baseline 0.5\n",
      "auc 0.8754657\n",
      "auc_precision_recall 0.865956\n",
      "average_loss 0.44524202\n",
      "label/mean 0.5\n",
      "loss 11.131051\n",
      "prediction/mean 0.52507305\n",
      "global_step 6000\n",
      "---\n"
     ]
    }
   ],
   "source": [
    "##################### Here's what we changed ##################################\n",
    "classifier = tf.estimator.DNNClassifier(                                      #\n",
    "  feature_columns=[tf.feature_column.indicator_column(terms_feature_column)], #\n",
    "  hidden_units=[20,20],                                                       #\n",
    "  optimizer=my_optimizer,\n",
    "  model_dir='data/model_dir'                                                     #\n",
    ")                                                                             #\n",
    "###############################################################################\n",
    "\n",
    "try:\n",
    "  classifier.train(\n",
    "    input_fn=lambda: _input_fn_shuffle([train_path]),\n",
    "    steps=1000)\n",
    "\n",
    "  evaluation_metrics = classifier.evaluate(\n",
    "    input_fn=lambda: _input_fn_shuffle([train_path]),\n",
    "    steps=1000)\n",
    "  print(\"Training set metrics:\")\n",
    "  for m in evaluation_metrics:\n",
    "    print(m, evaluation_metrics[m])\n",
    "  print(\"---\")\n",
    "\n",
    "  evaluation_metrics = classifier.evaluate(\n",
    "    input_fn=lambda: _input_fn([test_path]),\n",
    "    steps=1000)\n",
    "\n",
    "  print(\"Test set metrics:\")\n",
    "  for m in evaluation_metrics:\n",
    "    print(m, evaluation_metrics[m])\n",
    "  print(\"---\")\n",
    "except ValueError as err:\n",
    "  print(err)"
   ]
  },
  {
   "cell_type": "code",
   "execution_count": 53,
   "metadata": {
    "scrolled": false
   },
   "outputs": [
    {
     "name": "stdout",
     "output_type": "stream",
     "text": [
      "Training set metrics:\n",
      "accuracy 0.78512\n",
      "accuracy_baseline 0.5\n",
      "auc 0.8677584\n",
      "auc_precision_recall 0.8556496\n",
      "average_loss 0.4549846\n",
      "label/mean 0.5\n",
      "loss 11.374616\n",
      "prediction/mean 0.51133454\n",
      "global_step 1000\n",
      "---\n",
      "Test set metrics:\n",
      "accuracy 0.78248\n",
      "accuracy_baseline 0.5\n",
      "auc 0.86742806\n",
      "auc_precision_recall 0.8546642\n",
      "average_loss 0.4551947\n",
      "label/mean 0.5\n",
      "loss 11.3798685\n",
      "prediction/mean 0.51050776\n",
      "global_step 1000\n",
      "---\n"
     ]
    }
   ],
   "source": [
    "########################## YOUR CODE HERE ######################################\n",
    "terms_embedding_column = tf.feature_column.embedding_column(terms_feature_column, 2)\n",
    "feature_columns = [terms_embedding_column]\n",
    "# emb_opt = tf.train.AdagradOptimizer(learning_rate=.1)\n",
    "# emb_opt = tf.contrib.estimator.clip_gradients_by_norm(emb_opt, 5.0)\n",
    "\n",
    "classifier_emb = tf.estimator.DNNClassifier(feature_columns=feature_columns,\n",
    "                                       hidden_units=[20,20],\n",
    "                                       optimizer=my_optimizer,\n",
    "                                       model_dir='data/model_dir/dnn'\n",
    "                                           )\n",
    "################################################################################\n",
    "\n",
    "classifier_emb.train(\n",
    "  input_fn=lambda: _input_fn_shuffle([train_path]),\n",
    "  steps=1000)\n",
    "\n",
    "evaluation_metrics = classifier_emb.evaluate(\n",
    "  input_fn=lambda: _input_fn_shuffle([train_path]),\n",
    "  steps=1000)\n",
    "print(\"Training set metrics:\")\n",
    "for m in evaluation_metrics:\n",
    "  print(m, evaluation_metrics[m])\n",
    "print(\"---\")\n",
    "\n",
    "evaluation_metrics = classifier_emb.evaluate(\n",
    "  input_fn=lambda: _input_fn([test_path]),\n",
    "  steps=1000)\n",
    "\n",
    "print(\"Test set metrics:\")\n",
    "for m in evaluation_metrics:\n",
    "  print(m, evaluation_metrics[m])\n",
    "print(\"---\")"
   ]
  },
  {
   "cell_type": "code",
   "execution_count": 55,
   "metadata": {},
   "outputs": [
    {
     "data": {
      "image/png": "[encoded data removed]",
      "text/plain": [
       "<matplotlib.figure.Figure at 0x7f90b9247470>"
      ]
     },
     "metadata": {},
     "output_type": "display_data"
    }
   ],
   "source": [
    "import numpy as np\n",
    "import matplotlib.pyplot as plt\n",
    "\n",
    "embedding_matrix = classifier_emb.get_variable_value('dnn/input_from_feature_columns/input_layer/terms_embedding/embedding_weights')\n",
    "\n",
    "for term_index in range(len(informative_terms)):\n",
    "  # Create a one-hot encoding for our term. It has 0s everywhere, except for\n",
    "  # a single 1 in the coordinate that corresponds to that term.\n",
    "  term_vector = np.zeros(len(informative_terms))\n",
    "  term_vector[term_index] = 1\n",
    "  # We'll now project that one-hot vector into the embedding space.\n",
    "  embedding_xy = np.matmul(term_vector, embedding_matrix)\n",
    "  plt.text(embedding_xy[0],\n",
    "           embedding_xy[1],\n",
    "           informative_terms[term_index])\n",
    "\n",
    "# Do a little setup to make sure the plot displays nicely.\n",
    "plt.rcParams[\"figure.figsize\"] = (15, 15)\n",
    "plt.xlim(1.2 * embedding_matrix.min(), 1.2 * embedding_matrix.max())\n",
    "plt.ylim(1.2 * embedding_matrix.min(), 1.2 * embedding_matrix.max())\n",
    "plt.show() "
   ]
  },
  {
   "cell_type": "code",
   "execution_count": 58,
   "metadata": {
    "scrolled": false
   },
   "outputs": [
    {
     "name": "stdout",
     "output_type": "stream",
     "text": [
      "Training set metrics:\n",
      "accuracy 0.78884\n",
      "accuracy_baseline 0.5\n",
      "auc 0.87144536\n",
      "auc_precision_recall 0.8599787\n",
      "average_loss 0.4483266\n",
      "label/mean 0.5\n",
      "loss 11.208165\n",
      "prediction/mean 0.5146697\n",
      "global_step 3000\n",
      "---\n",
      "Test set metrics:\n",
      "accuracy 0.7852\n",
      "accuracy_baseline 0.5\n",
      "auc 0.8705197\n",
      "auc_precision_recall 0.8583643\n",
      "average_loss 0.44959158\n",
      "label/mean 0.5\n",
      "loss 11.239789\n",
      "prediction/mean 0.51426923\n",
      "global_step 3000\n",
      "---\n"
     ]
    }
   ],
   "source": [
    "########################## YOUR CODE HERE ######################################\n",
    "terms_embedding_column = tf.feature_column.embedding_column(terms_feature_column, 2)\n",
    "feature_columns = [terms_embedding_column]\n",
    "# emb_opt = tf.train.AdagradOptimizer(learning_rate=.1)\n",
    "# emb_opt = tf.contrib.estimator.clip_gradients_by_norm(emb_opt, 5.0)\n",
    "\n",
    "classifier_emb = tf.estimator.DNNClassifier(feature_columns=feature_columns,\n",
    "                                       hidden_units=[20,20],\n",
    "                                       optimizer=my_optimizer,\n",
    "                                       model_dir='data/model_dir/dnn'\n",
    "                                           )\n",
    "################################################################################\n",
    "\n",
    "classifier_emb.train(\n",
    "  input_fn=lambda: _input_fn_shuffle([train_path]),\n",
    "  steps=1000)\n",
    "\n",
    "evaluation_metrics = classifier_emb.evaluate(\n",
    "  input_fn=lambda: _input_fn_shuffle([train_path]),\n",
    "  steps=1000)\n",
    "print(\"Training set metrics:\")\n",
    "for m in evaluation_metrics:\n",
    "  print(m, evaluation_metrics[m])\n",
    "print(\"---\")\n",
    "\n",
    "evaluation_metrics = classifier_emb.evaluate(\n",
    "  input_fn=lambda: _input_fn([test_path]),\n",
    "  steps=1000)\n",
    "\n",
    "print(\"Test set metrics:\")\n",
    "for m in evaluation_metrics:\n",
    "  print(m, evaluation_metrics[m])\n",
    "print(\"---\")"
   ]
  },
  {
   "cell_type": "code",
   "execution_count": 59,
   "metadata": {},
   "outputs": [
    {
     "data": {
      "image/png": "[encoded data removed]",
      "text/plain": [
       "<matplotlib.figure.Figure at 0x7f90b7b92f98>"
      ]
     },
     "metadata": {},
     "output_type": "display_data"
    }
   ],
   "source": [
    "import numpy as np\n",
    "import matplotlib.pyplot as plt\n",
    "\n",
    "embedding_matrix = classifier_emb.get_variable_value('dnn/input_from_feature_columns/input_layer/terms_embedding/embedding_weights')\n",
    "\n",
    "for term_index in range(len(informative_terms)):\n",
    "  # Create a one-hot encoding for our term. It has 0s everywhere, except for\n",
    "  # a single 1 in the coordinate that corresponds to that term.\n",
    "  term_vector = np.zeros(len(informative_terms))\n",
    "  term_vector[term_index] = 1\n",
    "  # We'll now project that one-hot vector into the embedding space.\n",
    "  embedding_xy = np.matmul(term_vector, embedding_matrix)\n",
    "  plt.text(embedding_xy[0],\n",
    "           embedding_xy[1],\n",
    "           informative_terms[term_index])\n",
    "\n",
    "# Do a little setup to make sure the plot displays nicely.\n",
    "plt.rcParams[\"figure.figsize\"] = (15, 15)\n",
    "plt.xlim(1.2 * embedding_matrix.min(), 1.2 * embedding_matrix.max())\n",
    "plt.ylim(1.2 * embedding_matrix.min(), 1.2 * embedding_matrix.max())\n",
    "plt.show() "
   ]
  }
 ],
 "metadata": {
  "kernelspec": {
   "display_name": "Python 3",
   "language": "python",
   "name": "python3"
  },
  "language_info": {
   "codemirror_mode": {
    "name": "ipython",
    "version": 3
   },
   "file_extension": ".py",
   "mimetype": "text/x-python",
   "name": "python",
   "nbconvert_exporter": "python",
   "pygments_lexer": "ipython3",
   "version": "3.6.4"
  }
 },
 "nbformat": 4,
 "nbformat_minor": 2
}
