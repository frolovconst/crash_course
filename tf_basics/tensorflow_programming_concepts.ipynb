{
 "cells": [
  {
   "cell_type": "code",
   "execution_count": 2,
   "metadata": {},
   "outputs": [],
   "source": [
    "import tensorflow as tf\n",
    "import numpy as np\n",
    "import matplotlib.pyplot as plt"
   ]
  },
  {
   "cell_type": "code",
   "execution_count": 12,
   "metadata": {},
   "outputs": [
    {
     "name": "stdout",
     "output_type": "stream",
     "text": [
      "13\n"
     ]
    }
   ],
   "source": [
    "with tf.Graph().as_default():\n",
    "    x = tf.constant(8, name='x_const')\n",
    "    y = tf.constant(5, name='y_const')    \n",
    "    z = tf.add(x, y)\n",
    "    \n",
    "    with tf.Session() as sess:\n",
    "        rslt = z.eval()\n",
    "        print(rslt)"
   ]
  },
  {
   "cell_type": "code",
   "execution_count": 65,
   "metadata": {
    "scrolled": false
   },
   "outputs": [
    {
     "name": "stdout",
     "output_type": "stream",
     "text": [
      "[[1 1 2]\n",
      " [1 2 3]\n",
      " [3 4 7]\n",
      " [5 4 9]\n",
      " [3 4 7]\n",
      " [4 2 6]\n",
      " [2 4 6]\n",
      " [5 4 9]\n",
      " [2 2 4]\n",
      " [1 2 3]]\n"
     ]
    }
   ],
   "source": [
    "g = tf.Graph()\n",
    "with g.as_default():\n",
    "    random = tf.get_variable('dice', initializer=tf.random_uniform((10,2), dtype=tf.int32, maxval=7, minval=1))\n",
    "    slice_a = tf.slice(random, [0,0], [-1,1])\n",
    "    slice_b = tf.slice(random, [0,1], [-1,1])\n",
    "    summ = tf.add(slice_a, slice_b)\n",
    "    array = tf.concat([random, summ], axis=1)\n",
    "#     array = tf.concat((random, tf.add(random[:,[0]], random[:,[1]])), axis=1)\n",
    "    with tf.Session() as sess:\n",
    "        sess.run(tf.global_variables_initializer())\n",
    "#         print(sess.run(summ))\n",
    "        print(sess.run(array))        "
   ]
  }
 ],
 "metadata": {
  "kernelspec": {
   "display_name": "Python 3",
   "language": "python",
   "name": "python3"
  },
  "language_info": {
   "codemirror_mode": {
    "name": "ipython",
    "version": 3
   },
   "file_extension": ".py",
   "mimetype": "text/x-python",
   "name": "python",
   "nbconvert_exporter": "python",
   "pygments_lexer": "ipython3",
   "version": "3.6.3"
  }
 },
 "nbformat": 4,
 "nbformat_minor": 2
}
